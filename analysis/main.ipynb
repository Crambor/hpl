{
 "cells": [
  {
   "cell_type": "code",
   "execution_count": 2,
   "metadata": {},
   "outputs": [
    {
     "ename": "ModuleNotFoundError",
     "evalue": "No module named 'seaborn'",
     "output_type": "error",
     "traceback": [
      "\u001b[0;31m---------------------------------------------------------------------------\u001b[0m",
      "\u001b[0;31mModuleNotFoundError\u001b[0m                       Traceback (most recent call last)",
      "\u001b[1;32m/Users/rohanjain/Desktop/3rd_Year/Individual Project/Crambor/hpl/analysis/main.ipynb Cell 1\u001b[0m in \u001b[0;36m<cell line: 2>\u001b[0;34m()\u001b[0m\n\u001b[1;32m      <a href='vscode-notebook-cell:/Users/rohanjain/Desktop/3rd_Year/Individual%20Project/Crambor/hpl/analysis/main.ipynb#W0sZmlsZQ%3D%3D?line=0'>1</a>\u001b[0m \u001b[39mimport\u001b[39;00m \u001b[39mpandas\u001b[39;00m \u001b[39mas\u001b[39;00m \u001b[39mpd\u001b[39;00m \n\u001b[0;32m----> <a href='vscode-notebook-cell:/Users/rohanjain/Desktop/3rd_Year/Individual%20Project/Crambor/hpl/analysis/main.ipynb#W0sZmlsZQ%3D%3D?line=1'>2</a>\u001b[0m \u001b[39mimport\u001b[39;00m \u001b[39mseaborn\u001b[39;00m \u001b[39mas\u001b[39;00m \u001b[39msns\u001b[39;00m \n\u001b[1;32m      <a href='vscode-notebook-cell:/Users/rohanjain/Desktop/3rd_Year/Individual%20Project/Crambor/hpl/analysis/main.ipynb#W0sZmlsZQ%3D%3D?line=2'>3</a>\u001b[0m \u001b[39mimport\u001b[39;00m \u001b[39mmatplotlib\u001b[39;00m\u001b[39m.\u001b[39;00m\u001b[39mpyplot\u001b[39;00m \u001b[39mas\u001b[39;00m \u001b[39mplt\u001b[39;00m\n",
      "\u001b[0;31mModuleNotFoundError\u001b[0m: No module named 'seaborn'"
     ]
    }
   ],
   "source": [
    "import pandas as pd \n",
    "import seaborn as sns \n",
    "import matplotlib.pyplot as plt\n",
    "#-"
   ]
  },
  {
   "cell_type": "code",
   "execution_count": 1,
   "metadata": {},
   "outputs": [
    {
     "data": {
      "text/plain": [
       "6857.17"
      ]
     },
     "execution_count": 1,
     "metadata": {},
     "output_type": "execute_result"
    }
   ],
   "source": []
  },
  {
   "cell_type": "code",
   "execution_count": 2,
   "metadata": {},
   "outputs": [
    {
     "data": {
      "text/plain": [
       "114.28616666666667"
      ]
     },
     "execution_count": 2,
     "metadata": {},
     "output_type": "execute_result"
    }
   ],
   "source": [
    "6857.17/60"
   ]
  },
  {
   "cell_type": "code",
   "execution_count": 3,
   "metadata": {},
   "outputs": [
    {
     "data": {
      "text/plain": [
       "5630.309999999999"
      ]
     },
     "execution_count": 3,
     "metadata": {},
     "output_type": "execute_result"
    }
   ],
   "source": [
    "sum([404.6,\n",
    "422.09,\n",
    "461.04,\n",
    "511.78,\n",
    "584.57,\n",
    "197.67,\n",
    "201.31,\n",
    "208.90,\n",
    "222.23,\n",
    "243.45,\n",
    "127.27,\n",
    "133.12,\n",
    "124.12,\n",
    "128.20,\n",
    "139.79,\n",
    "106.01,\n",
    "104.58,\n",
    "101.88,\n",
    " 98.80,\n",
    "107.87,\n",
    " 95.73,\n",
    " 93.94,\n",
    " 92.55,\n",
    " 91.82,\n",
    " 95.44,\n",
    "112.06,\n",
    "105.79,\n",
    "105.33,\n",
    "103.86,\n",
    "104.51,])"
   ]
  },
  {
   "cell_type": "code",
   "execution_count": 5,
   "metadata": {},
   "outputs": [
    {
     "data": {
      "text/plain": [
       "33.83849999999998"
      ]
     },
     "execution_count": 5,
     "metadata": {},
     "output_type": "execute_result"
    }
   ],
   "source": [
    "5630.309999999999/60 - 60"
   ]
  },
  {
   "cell_type": "code",
   "execution_count": 6,
   "metadata": {},
   "outputs": [
    {
     "name": "stdout",
     "output_type": "stream",
     "text": [
      "4096\n",
      "4096\n",
      "4096\n",
      "4096\n",
      "4096\n"
     ]
    }
   ],
   "source": [
    "x = \"2       4       8       16      32\".split()\n",
    "y = \"2048    1024    512     256     128\".split()\n",
    "\n",
    "\n",
    "\n",
    "for a, b in zip(x,y): \n",
    "    print(int(a) * int(b))"
   ]
  },
  {
   "cell_type": "code",
   "execution_count": 7,
   "metadata": {},
   "outputs": [],
   "source": [
    "x = [212.28,\n",
    "220.65,\n",
    "232.24,\n",
    "239.03,\n",
    "268.23,\n",
    "113.56,\n",
    "120.62,\n",
    "121.22,\n",
    "128.67,\n",
    "138.75,\n",
    " 79.80,\n",
    " 80.73,\n",
    " 77.37,\n",
    " 75.33,\n",
    " 84.97,\n",
    " 70.84,\n",
    " 70.11,\n",
    " 69.39,\n",
    " 65.10,\n",
    " 68.54,\n",
    " 72.28,\n",
    " 70.86,\n",
    " 70.59,\n",
    " 69.74,\n",
    " 70.61,]"
   ]
  },
  {
   "cell_type": "code",
   "execution_count": 9,
   "metadata": {},
   "outputs": [
    {
     "data": {
      "text/plain": [
       "48.191833333333335"
      ]
     },
     "execution_count": 9,
     "metadata": {},
     "output_type": "execute_result"
    }
   ],
   "source": [
    "sum(x)/60"
   ]
  },
  {
   "cell_type": "code",
   "execution_count": null,
   "metadata": {},
   "outputs": [],
   "source": []
  }
 ],
 "metadata": {
  "kernelspec": {
   "display_name": "deepLearning",
   "language": "python",
   "name": "python3"
  },
  "language_info": {
   "codemirror_mode": {
    "name": "ipython",
    "version": 3
   },
   "file_extension": ".py",
   "mimetype": "text/x-python",
   "name": "python",
   "nbconvert_exporter": "python",
   "pygments_lexer": "ipython3",
   "version": "3.9.13"
  },
  "orig_nbformat": 4
 },
 "nbformat": 4,
 "nbformat_minor": 2
}
