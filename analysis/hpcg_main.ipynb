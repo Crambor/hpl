{
 "cells": [
  {
   "cell_type": "code",
   "execution_count": 1,
   "metadata": {},
   "outputs": [
    {
     "name": "stdout",
     "output_type": "stream",
     "text": [
      "Pretty printing has been turned OFF\n"
     ]
    }
   ],
   "source": [
    "from pprint import pprint\n",
    "import pandas as pd\n",
    "import os\n",
    "\n",
    "import matplotlib.pyplot as plt \n",
    "import seaborn as sns\n",
    "from IPython.display import display\n",
    "%pprint"
   ]
  },
  {
   "cell_type": "code",
   "execution_count": 2,
   "metadata": {},
   "outputs": [],
   "source": [
    "file_name = \"/Users/rohanjain/Desktop/3rd_Year/Individual Project/Crambor/hpl/analysis/results/HPCG/Hamilton/results1/output.out\"\n",
    "data = None \n",
    "with open(file_name, \"r\") as file: \n",
    "    data = file.read()\n",
    "\n",
    "data = data.split(\"BRUHBRUHBRUH\\\\n\\\\nBRUHBRUHBRUHBRUHBRUH\")[1:]"
   ]
  },
  {
   "cell_type": "code",
   "execution_count": 3,
   "metadata": {},
   "outputs": [
    {
     "name": "stderr",
     "output_type": "stream",
     "text": [
      "/Users/rohanjain/opt/anaconda3/lib/python3.9/site-packages/seaborn/_decorators.py:36: FutureWarning: Pass the following variables as keyword args: x, y. From version 0.12, the only valid positional argument will be `data`, and passing other arguments without an explicit keyword will result in an error or misinterpretation.\n",
      "  warnings.warn(\n",
      "/Users/rohanjain/opt/anaconda3/lib/python3.9/site-packages/seaborn/_decorators.py:36: FutureWarning: Pass the following variables as keyword args: x, y. From version 0.12, the only valid positional argument will be `data`, and passing other arguments without an explicit keyword will result in an error or misinterpretation.\n",
      "  warnings.warn(\n"
     ]
    },
    {
     "data": {
      "image/png": "[encoded data removed]",
      "text/plain": [
       "<Figure size 432x288 with 1 Axes>"
      ]
     },
     "metadata": {
      "needs_background": "light"
     },
     "output_type": "display_data"
    }
   ],
   "source": [
    "\n",
    "num_nodes = []\n",
    "gflops_all = []\n",
    "all_times = []\n",
    "\n",
    "for file in data: \n",
    "    num_distributed_processes = None \n",
    "    results_gflops = None \n",
    "    temp_time = None\n",
    "\n",
    "    file = file.splitlines()\n",
    "\n",
    "    for line in file: \n",
    "\n",
    "        if \"Distributed Processes\" in line: \n",
    "            num_distributed_processes = int(line[24:].strip())\n",
    "            # print(num_distributed_processes)\n",
    "        \n",
    "        if \"HPCG result is VALID with a GFLOP/s rating of:\" in line: \n",
    "            results_gflops = float(line.strip()[47:].strip())\n",
    "\n",
    "        if \"execution time (sec) is:\" in line: \n",
    "            temp_time = float(line[49:].strip())\n",
    "            \n",
    "    num_nodes.append(num_distributed_processes)\n",
    "    gflops_all.append(results_gflops)\n",
    "    all_times.append(temp_time)\n",
    "\n",
    "\n",
    "i = num_nodes.index(128)\n",
    "\n",
    "node1_gflops = gflops_all[i]\n",
    "ideal_speedup = [node1_gflops * value/128 for value in num_nodes]\n",
    "\n",
    "\n",
    "sns.lineplot(num_nodes, gflops_all, label=\"Actual Speed\", marker='o')\n",
    "sns.lineplot(num_nodes, ideal_speedup, label=\"Ideal Speedup\", linestyle=\"dashdot\")\n",
    "plt.show()"
   ]
  },
  {
   "cell_type": "code",
   "execution_count": null,
   "metadata": {},
   "outputs": [
    {
     "data": {
      "text/plain": [
       "([128, 256, 512, 1024, 2048, 4096],\n",
       " [28.9719, 55.216, 110.672, 211.937, 411.232, 822.33])"
      ]
     },
     "execution_count": 55,
     "metadata": {},
     "output_type": "execute_result"
    }
   ],
   "source": [
    "num_nodes, gflops_all"
   ]
  },
  {
   "cell_type": "code",
   "execution_count": 7,
   "metadata": {},
   "outputs": [],
   "source": [
    "num_nodes = [1024,512,256,128,2048,]\n",
    "gflops_all = [296.942,153.102,77.0579,38.7726,570.542,]\n",
    "all_times = [6193.77,6130.5,6081.73,6047.34,5447.22,]"
   ]
  },
  {
   "cell_type": "code",
   "execution_count": 9,
   "metadata": {},
   "outputs": [
    {
     "data": {
      "text/html": [
       "<div>\n",
       "<style scoped>\n",
       "    .dataframe tbody tr th:only-of-type {\n",
       "        vertical-align: middle;\n",
       "    }\n",
       "\n",
       "    .dataframe tbody tr th {\n",
       "        vertical-align: top;\n",
       "    }\n",
       "\n",
       "    .dataframe thead th {\n",
       "        text-align: right;\n",
       "    }\n",
       "</style>\n",
       "<table border=\"1\" class=\"dataframe\">\n",
       "  <thead>\n",
       "    <tr style=\"text-align: right;\">\n",
       "      <th></th>\n",
       "      <th>cores</th>\n",
       "      <th>gflops_all</th>\n",
       "      <th>execution_time</th>\n",
       "      <th>Nodes</th>\n",
       "      <th>effeciency</th>\n",
       "    </tr>\n",
       "  </thead>\n",
       "  <tbody>\n",
       "    <tr>\n",
       "      <th>3</th>\n",
       "      <td>128</td>\n",
       "      <td>38.7726</td>\n",
       "      <td>6047.34</td>\n",
       "      <td>1.0</td>\n",
       "      <td>1.000000</td>\n",
       "    </tr>\n",
       "    <tr>\n",
       "      <th>2</th>\n",
       "      <td>256</td>\n",
       "      <td>77.0579</td>\n",
       "      <td>6081.73</td>\n",
       "      <td>2.0</td>\n",
       "      <td>1.987432</td>\n",
       "    </tr>\n",
       "    <tr>\n",
       "      <th>1</th>\n",
       "      <td>512</td>\n",
       "      <td>153.1020</td>\n",
       "      <td>6130.50</td>\n",
       "      <td>4.0</td>\n",
       "      <td>3.948716</td>\n",
       "    </tr>\n",
       "    <tr>\n",
       "      <th>0</th>\n",
       "      <td>1024</td>\n",
       "      <td>296.9420</td>\n",
       "      <td>6193.77</td>\n",
       "      <td>8.0</td>\n",
       "      <td>7.658553</td>\n",
       "    </tr>\n",
       "    <tr>\n",
       "      <th>4</th>\n",
       "      <td>2048</td>\n",
       "      <td>570.5420</td>\n",
       "      <td>5447.22</td>\n",
       "      <td>16.0</td>\n",
       "      <td>14.715082</td>\n",
       "    </tr>\n",
       "  </tbody>\n",
       "</table>\n",
       "</div>"
      ],
      "text/plain": [
       "   cores  gflops_all  execution_time  Nodes  effeciency\n",
       "3    128     38.7726         6047.34    1.0    1.000000\n",
       "2    256     77.0579         6081.73    2.0    1.987432\n",
       "1    512    153.1020         6130.50    4.0    3.948716\n",
       "0   1024    296.9420         6193.77    8.0    7.658553\n",
       "4   2048    570.5420         5447.22   16.0   14.715082"
      ]
     },
     "execution_count": 9,
     "metadata": {},
     "output_type": "execute_result"
    }
   ],
   "source": [
    "# df = pd.DataFrame(data={\"cores\": num_nodes, \"gflops_all\": gflops_all, \"execution_time\": all_times})\n",
    "# df[\"Nodes\"] = df[\"cores\"]/128\n",
    "# df[\"effeciency\"] = df[\"gflops_all\"]/28.9719\n",
    "# df\n",
    "\n",
    "\n",
    "df = pd.DataFrame(data={\"cores\": num_nodes, \"gflops_all\": gflops_all, \"execution_time\": all_times})\n",
    "df[\"Nodes\"] = df[\"cores\"]/128\n",
    "df[\"effeciency\"] = df[\"gflops_all\"]/38.7726\n",
    "df.sort_values(by=\"cores\")"
   ]
  },
  {
   "cell_type": "code",
   "execution_count": 6,
   "metadata": {},
   "outputs": [
    {
     "name": "stdout",
     "output_type": "stream",
     "text": [
      "[38.7726, 77.5452, 155.0904, 310.1808, 620.3616]\n",
      "[38.7726, 77.0579, 153.102, 296.942, 570.542]\n",
      "[128, 256, 512, 1024, 2048]\n"
     ]
    },
    {
     "name": "stderr",
     "output_type": "stream",
     "text": [
      "/Users/rohanjain/opt/anaconda3/lib/python3.9/site-packages/seaborn/_decorators.py:36: FutureWarning: Pass the following variables as keyword args: x, y. From version 0.12, the only valid positional argument will be `data`, and passing other arguments without an explicit keyword will result in an error or misinterpretation.\n",
      "  warnings.warn(\n",
      "/Users/rohanjain/opt/anaconda3/lib/python3.9/site-packages/seaborn/_decorators.py:36: FutureWarning: Pass the following variables as keyword args: x, y. From version 0.12, the only valid positional argument will be `data`, and passing other arguments without an explicit keyword will result in an error or misinterpretation.\n",
      "  warnings.warn(\n"
     ]
    },
    {
     "data": {
      "image/png": "[encoded data removed]",
      "text/plain": [
       "<Figure size 432x288 with 1 Axes>"
      ]
     },
     "metadata": {
      "needs_background": "light"
     },
     "output_type": "display_data"
    }
   ],
   "source": [
    "def plot_graph(num_nodes, gflops, node1corecount = 128): \n",
    "    \n",
    "# For the cloud results\n",
    "\n",
    "    i = num_nodes.index(node1corecount)\n",
    "\n",
    "    node1_gflops = gflops[i]\n",
    "    ideal_speedup = [(node1_gflops * value)/node1corecount for value in num_nodes]\n",
    "\n",
    "    print(sorted(ideal_speedup))\n",
    "    print(sorted(gflops))\n",
    "    print(sorted(num_nodes))\n",
    "\n",
    "    fig, ax = plt.subplots()\n",
    "\n",
    "    sns.lineplot(num_nodes, gflops, label=\"Actual Speed\", marker='o', ax=ax)\n",
    "    sns.lineplot(num_nodes, ideal_speedup, label=\"Ideal Speedup\", linestyle=\"dashdot\", ax=ax)\n",
    "\n",
    "    ax.set_xlabel('Number of Nodes')\n",
    "    ax.set_ylabel('Gflops')\n",
    "    ax.set_title('Performance Comparison')\n",
    "\n",
    "    plt.legend()\n",
    "    plt.show()\n",
    "\n",
    "    # max_results[\"speedup\"] = max_results[\"Gflops\"]/(max_results[max_results[\"Nodes\"] == 1.0][\"Gflops\"].values[0])\n",
    "    # display(max_results)\n",
    "\n",
    "plot_graph(num_nodes, gflops_all)"
   ]
  },
  {
   "cell_type": "code",
   "execution_count": null,
   "metadata": {},
   "outputs": [
    {
     "data": {
      "text/plain": [
       "46"
      ]
     },
     "execution_count": 63,
     "metadata": {},
     "output_type": "execute_result"
    }
   ],
   "source": []
  },
  {
   "cell_type": "code",
   "execution_count": null,
   "metadata": {},
   "outputs": [],
   "source": []
  },
  {
   "cell_type": "code",
   "execution_count": null,
   "metadata": {},
   "outputs": [],
   "source": []
  }
 ],
 "metadata": {
  "kernelspec": {
   "display_name": "base",
   "language": "python",
   "name": "python3"
  },
  "language_info": {
   "codemirror_mode": {
    "name": "ipython",
    "version": 3
   },
   "file_extension": ".py",
   "mimetype": "text/x-python",
   "name": "python",
   "nbconvert_exporter": "python",
   "pygments_lexer": "ipython3",
   "version": "3.9.7"
  },
  "orig_nbformat": 4
 },
 "nbformat": 4,
 "nbformat_minor": 2
}
