{
 "cells": [
  {
   "cell_type": "code",
   "execution_count": 1,
   "metadata": {},
   "outputs": [],
   "source": [
    "import pandas as pd \n",
    "import matplotlib.pyplot as plt \n",
    "from pprint import pprint\n",
    "import os\n",
    "import re\n",
    "\n"
   ]
  },
  {
   "cell_type": "code",
   "execution_count": 35,
   "metadata": {},
   "outputs": [],
   "source": [
    "RESULT_DELIMETER = \"T/V                N    NB     P     Q               Time                 Gflops\"\n",
    "\n",
    "def get_parameter_grid(data): \n",
    "    \n",
    "    start = None\n",
    "    for i, value in enumerate(data):  \n",
    "        if \"The following parameter values will be used:\" in value: \n",
    "            start = i \n",
    "    \n",
    "    parameter_grid = { }\n",
    "\n",
    "    for i, line in enumerate(data[start::]): \n",
    "        line = line.strip()\n",
    "        if \"----------------\" in line: \n",
    "            break \n",
    "        else: \n",
    "            if line != \"\": \n",
    "                # value.split(\":\")\n",
    "                value = line.split(\":\")\n",
    "\n",
    "                key = value[0].strip()\n",
    "                value = value[1].strip()\n",
    "                parameter_grid[key] = value\n",
    "            \n",
    "    return parameter_grid\n",
    "            \n",
    "\n",
    "\n",
    "def parse_data(data): \n",
    "    results = []\n",
    "    for i, line in enumerate(data): \n",
    "        if RESULT_DELIMETER in line: \n",
    "            value = data[i+2]\n",
    "            value = value.split()\n",
    "            results.append(\n",
    "                {\"N\": value[1], \n",
    "                \"NB\": value[2], \n",
    "                \"P\": value[3],\n",
    "                \"Q\": value[4],\n",
    "                \"Time\": value[5], \n",
    "                \"Gflops\": value[6],})\n",
    "            \n",
    "    return results\n",
    "\n",
    "\n",
    "def get_results(file_name): \n",
    "    command = \"make logbruh\"\n",
    "    data = None\n",
    "    with open(file_name) as file: \n",
    "        data = file.readlines()\n",
    "    \n",
    "    parameter_grid = get_parameter_grid(data)        \n",
    "    data = parse_data(data)\n",
    "    # pprint(parameter_grid)\n",
    "    # pprint(data)\n",
    "    return pd.DataFrame(data).sort_values(by=[\"N\", \"Time\"], ascending=[False, True]).reset_index()\n",
    "\n",
    "\n",
    "x = []\n",
    "y = []\n",
    "\n",
    "dir_name = \"/Users/rohanjain/Desktop/3rd_Year/Individual Project/Crambor/hpl/Parsers/HPL/22-03-23-results\"\n",
    "for file in sorted(os.listdir(dir_name)): \n",
    "    if \"out\" in file:\n",
    "        results = get_results(f\"{dir_name}/{file}\")\n",
    "        results[\"Time\"] = results[\"Time\"].astype(float)\n",
    "        # display(results.dtypes)  \n",
    "        results = results.sort_values(by=\"Time\", ascending=True)\n",
    "        \n",
    "        match = re.search(r\"^core(\\d+)\\.out$\", file).group(1)\n",
    "\n",
    "        y.append(float(results.iloc[0][\"Time\"]))\n",
    "        x.append(int(match))\n"
   ]
  },
  {
   "cell_type": "code",
   "execution_count": 36,
   "metadata": {},
   "outputs": [
    {
     "data": {
      "text/plain": [
       "<matplotlib.collections.PathCollection at 0x7f9a22d5a340>"
      ]
     },
     "execution_count": 36,
     "metadata": {},
     "output_type": "execute_result"
    },
    {
     "data": {
      "image/png": "[encoded data removed]",
      "text/plain": [
       "<Figure size 640x480 with 1 Axes>"
      ]
     },
     "metadata": {},
     "output_type": "display_data"
    }
   ],
   "source": [
    "plt.scatter(x,y)"
   ]
  },
  {
   "cell_type": "code",
   "execution_count": null,
   "metadata": {},
   "outputs": [],
   "source": [
    "Nodes 1(24) 2(48) 4(96) 8(192) 16(386) 32(768)\n",
    "HPCG (GB) 19.3 38.6 77.2 154.5 308.9 617.9\n",
    "HPL (N) 57920 81920 115840 163840 231680 327680"
   ]
  },
  {
   "cell_type": "code",
   "execution_count": 40,
   "metadata": {},
   "outputs": [
    {
     "name": "stdout",
     "output_type": "stream",
     "text": [
      "3354726400\n",
      "3355443200.0\n"
     ]
    }
   ],
   "source": [
    "print(57920**2)\n",
    "print(81920**2/2)"
   ]
  },
  {
   "cell_type": "code",
   "execution_count": null,
   "metadata": {},
   "outputs": [],
   "source": []
  }
 ],
 "metadata": {
  "kernelspec": {
   "display_name": "deepLearning",
   "language": "python",
   "name": "python3"
  },
  "language_info": {
   "codemirror_mode": {
    "name": "ipython",
    "version": 3
   },
   "file_extension": ".py",
   "mimetype": "text/x-python",
   "name": "python",
   "nbconvert_exporter": "python",
   "pygments_lexer": "ipython3",
   "version": "3.9.13"
  },
  "orig_nbformat": 4
 },
 "nbformat": 4,
 "nbformat_minor": 2
}
